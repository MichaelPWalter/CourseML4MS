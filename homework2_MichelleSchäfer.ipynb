{
  "cells": [
    {
      "cell_type": "markdown",
      "id": "2bc07e5f",
      "metadata": {
        "id": "2bc07e5f"
      },
      "source": [
        "Solutions for the tasks of the homework from week 2."
      ]
    },
    {
      "cell_type": "code",
      "execution_count": 56,
      "id": "7ee05fe7",
      "metadata": {
        "colab": {
          "base_uri": "https://localhost:8080/"
        },
        "id": "7ee05fe7",
        "outputId": "8570df5d-5684-44f7-def4-9cf637c186d6"
      },
      "outputs": [
        {
          "output_type": "stream",
          "name": "stdout",
          "text": [
            "[[0 <function F at 0x7ff916b67dd0>]\n",
            " [<function F1 at 0x7ff916b673b0> 0]]\n"
          ]
        }
      ],
      "source": [
        "import numpy as np\n",
        "from numpy import linalg\n",
        "\n",
        "def F (x,y):\n",
        "    F = np.exp(1j*yy) + 2*np.exp(-1j*yy/2)*np.cos(np.sqrt(3)/2*xx)\n",
        "\n",
        "def F1 (x,y):\n",
        "    F1 = np.conjugate(F)\n",
        "\n",
        "M = np.matrix([(0,F), (F1,0)])\n",
        "print(M)"
      ]
    },
    {
      "cell_type": "markdown",
      "id": "3f579111",
      "metadata": {
        "id": "3f579111"
      },
      "source": [
        "Task 1"
      ]
    },
    {
      "cell_type": "code",
      "execution_count": 35,
      "id": "0eee321f",
      "metadata": {
        "id": "0eee321f",
        "colab": {
          "base_uri": "https://localhost:8080/"
        },
        "outputId": "20a345e1-9f94-4d39-921b-887566a6667e"
      },
      "outputs": [
        {
          "output_type": "stream",
          "name": "stdout",
          "text": [
            "[[[-3.14159265 -3.14159265 -3.14159265 -3.14159265 -3.14159265\n",
            "   -3.14159265 -3.14159265 -3.14159265 -3.14159265 -3.14159265]\n",
            "  [-2.44346095 -2.44346095 -2.44346095 -2.44346095 -2.44346095\n",
            "   -2.44346095 -2.44346095 -2.44346095 -2.44346095 -2.44346095]\n",
            "  [-1.74532925 -1.74532925 -1.74532925 -1.74532925 -1.74532925\n",
            "   -1.74532925 -1.74532925 -1.74532925 -1.74532925 -1.74532925]\n",
            "  [-1.04719755 -1.04719755 -1.04719755 -1.04719755 -1.04719755\n",
            "   -1.04719755 -1.04719755 -1.04719755 -1.04719755 -1.04719755]\n",
            "  [-0.34906585 -0.34906585 -0.34906585 -0.34906585 -0.34906585\n",
            "   -0.34906585 -0.34906585 -0.34906585 -0.34906585 -0.34906585]\n",
            "  [ 0.34906585  0.34906585  0.34906585  0.34906585  0.34906585\n",
            "    0.34906585  0.34906585  0.34906585  0.34906585  0.34906585]\n",
            "  [ 1.04719755  1.04719755  1.04719755  1.04719755  1.04719755\n",
            "    1.04719755  1.04719755  1.04719755  1.04719755  1.04719755]\n",
            "  [ 1.74532925  1.74532925  1.74532925  1.74532925  1.74532925\n",
            "    1.74532925  1.74532925  1.74532925  1.74532925  1.74532925]\n",
            "  [ 2.44346095  2.44346095  2.44346095  2.44346095  2.44346095\n",
            "    2.44346095  2.44346095  2.44346095  2.44346095  2.44346095]\n",
            "  [ 3.14159265  3.14159265  3.14159265  3.14159265  3.14159265\n",
            "    3.14159265  3.14159265  3.14159265  3.14159265  3.14159265]]\n",
            "\n",
            " [[-3.14159265 -2.44346095 -1.74532925 -1.04719755 -0.34906585\n",
            "    0.34906585  1.04719755  1.74532925  2.44346095  3.14159265]\n",
            "  [-3.14159265 -2.44346095 -1.74532925 -1.04719755 -0.34906585\n",
            "    0.34906585  1.04719755  1.74532925  2.44346095  3.14159265]\n",
            "  [-3.14159265 -2.44346095 -1.74532925 -1.04719755 -0.34906585\n",
            "    0.34906585  1.04719755  1.74532925  2.44346095  3.14159265]\n",
            "  [-3.14159265 -2.44346095 -1.74532925 -1.04719755 -0.34906585\n",
            "    0.34906585  1.04719755  1.74532925  2.44346095  3.14159265]\n",
            "  [-3.14159265 -2.44346095 -1.74532925 -1.04719755 -0.34906585\n",
            "    0.34906585  1.04719755  1.74532925  2.44346095  3.14159265]\n",
            "  [-3.14159265 -2.44346095 -1.74532925 -1.04719755 -0.34906585\n",
            "    0.34906585  1.04719755  1.74532925  2.44346095  3.14159265]\n",
            "  [-3.14159265 -2.44346095 -1.74532925 -1.04719755 -0.34906585\n",
            "    0.34906585  1.04719755  1.74532925  2.44346095  3.14159265]\n",
            "  [-3.14159265 -2.44346095 -1.74532925 -1.04719755 -0.34906585\n",
            "    0.34906585  1.04719755  1.74532925  2.44346095  3.14159265]\n",
            "  [-3.14159265 -2.44346095 -1.74532925 -1.04719755 -0.34906585\n",
            "    0.34906585  1.04719755  1.74532925  2.44346095  3.14159265]\n",
            "  [-3.14159265 -2.44346095 -1.74532925 -1.04719755 -0.34906585\n",
            "    0.34906585  1.04719755  1.74532925  2.44346095  3.14159265]]]\n"
          ]
        }
      ],
      "source": [
        "pi = np.pi\n",
        "#pi = 3.141\n",
        "\n",
        "grid1 = np.mgrid[-pi:pi:10j,-pi:pi:10j]\n",
        "\n",
        "print(grid1)"
      ]
    },
    {
      "cell_type": "markdown",
      "source": [
        "For F:"
      ],
      "metadata": {
        "id": "mo-bWfQuD3f_"
      },
      "id": "mo-bWfQuD3f_"
    },
    {
      "cell_type": "code",
      "execution_count": 58,
      "id": "60baaf04",
      "metadata": {
        "id": "60baaf04",
        "colab": {
          "base_uri": "https://localhost:8080/",
          "height": 323
        },
        "outputId": "001a90ca-7170-474d-ebea-f30added317f"
      },
      "outputs": [
        {
          "output_type": "stream",
          "name": "stderr",
          "text": [
            "/usr/local/lib/python3.7/dist-packages/numpy/ma/core.py:2830: ComplexWarning: Casting complex values to real discards the imaginary part\n",
            "  order=order, subok=True, ndmin=ndmin)\n"
          ]
        },
        {
          "output_type": "execute_result",
          "data": {
            "text/plain": [
              "<matplotlib.colorbar.Colorbar at 0x7ff916c15410>"
            ]
          },
          "metadata": {},
          "execution_count": 58
        },
        {
          "output_type": "display_data",
          "data": {
            "text/plain": [
              "<Figure size 432x288 with 2 Axes>"
            ],
            "image/png": "[encoded data removed]"
          },
          "metadata": {
            "needs_background": "light"
          }
        }
      ],
      "source": [
        "x = np.linspace(-pi, pi, 10)\n",
        "y = np.linspace(-pi, pi, 10)\n",
        "\n",
        "xx, yy = np.meshgrid(x,y)\n",
        "zz = np.exp(1j*yy) + 2*np.exp(-1j*yy/2)*np.cos(np.sqrt(3)/2*xx)\n",
        "\n",
        "import matplotlib.pyplot as plt\n",
        "h = plt.contourf(x, y, zz)\n",
        "plt.colorbar()"
      ]
    },
    {
      "cell_type": "markdown",
      "source": [
        "For F1:"
      ],
      "metadata": {
        "id": "ZHN194_JD8Vr"
      },
      "id": "ZHN194_JD8Vr"
    },
    {
      "cell_type": "code",
      "source": [
        "x = np.linspace(-pi, pi, 10)\n",
        "y = np.linspace(-pi, pi, 10)\n",
        "\n",
        "xx, yy = np.meshgrid(x,y)\n",
        "zz1 = np.conjugate(zz)\n",
        "\n",
        "h = plt.contourf(x, y, zz1)\n",
        "plt.colorbar()"
      ],
      "metadata": {
        "colab": {
          "base_uri": "https://localhost:8080/",
          "height": 323
        },
        "id": "9dGdCDzvEA1A",
        "outputId": "dc029040-8f27-45dd-bada-71020a1fcef7"
      },
      "id": "9dGdCDzvEA1A",
      "execution_count": 59,
      "outputs": [
        {
          "output_type": "stream",
          "name": "stderr",
          "text": [
            "/usr/local/lib/python3.7/dist-packages/numpy/ma/core.py:2830: ComplexWarning: Casting complex values to real discards the imaginary part\n",
            "  order=order, subok=True, ndmin=ndmin)\n"
          ]
        },
        {
          "output_type": "execute_result",
          "data": {
            "text/plain": [
              "<matplotlib.colorbar.Colorbar at 0x7ff916d34110>"
            ]
          },
          "metadata": {},
          "execution_count": 59
        },
        {
          "output_type": "display_data",
          "data": {
            "text/plain": [
              "<Figure size 432x288 with 2 Axes>"
            ],
            "image/png": "[encoded data removed]"
          },
          "metadata": {
            "needs_background": "light"
          }
        }
      ]
    },
    {
      "cell_type": "code",
      "source": [
        "M = np.matrix([(0,zz), (zz1,0)])\n",
        "linalg.eigvals(M)"
      ],
      "metadata": {
        "colab": {
          "base_uri": "https://localhost:8080/",
          "height": 445
        },
        "id": "aWq-CErDE3bZ",
        "outputId": "1b07870c-e2fb-414a-999d-1b8c521020c5"
      },
      "id": "aWq-CErDE3bZ",
      "execution_count": 67,
      "outputs": [
        {
          "output_type": "stream",
          "name": "stderr",
          "text": [
            "/usr/local/lib/python3.7/dist-packages/numpy/matrixlib/defmatrix.py:145: VisibleDeprecationWarning: Creating an ndarray from ragged nested sequences (which is a list-or-tuple of lists-or-tuples-or ndarrays with different lengths or shapes) is deprecated. If you meant to do this, you must specify 'dtype=object' when creating the ndarray.\n",
            "  arr = N.array(data, dtype=dtype, copy=copy)\n"
          ]
        },
        {
          "output_type": "error",
          "ename": "TypeError",
          "evalue": "ignored",
          "traceback": [
            "\u001b[0;31m---------------------------------------------------------------------------\u001b[0m",
            "\u001b[0;31mTypeError\u001b[0m                                 Traceback (most recent call last)",
            "\u001b[0;32m<ipython-input-67-6193a72f3c57>\u001b[0m in \u001b[0;36m<module>\u001b[0;34m()\u001b[0m\n\u001b[1;32m      1\u001b[0m \u001b[0mM\u001b[0m \u001b[0;34m=\u001b[0m \u001b[0mnp\u001b[0m\u001b[0;34m.\u001b[0m\u001b[0mmatrix\u001b[0m\u001b[0;34m(\u001b[0m\u001b[0;34m[\u001b[0m\u001b[0;34m(\u001b[0m\u001b[0;36m0\u001b[0m\u001b[0;34m,\u001b[0m\u001b[0mzz\u001b[0m\u001b[0;34m)\u001b[0m\u001b[0;34m,\u001b[0m \u001b[0;34m(\u001b[0m\u001b[0mzz1\u001b[0m\u001b[0;34m,\u001b[0m\u001b[0;36m0\u001b[0m\u001b[0;34m)\u001b[0m\u001b[0;34m]\u001b[0m\u001b[0;34m)\u001b[0m\u001b[0;34m\u001b[0m\u001b[0;34m\u001b[0m\u001b[0m\n\u001b[0;32m----> 2\u001b[0;31m \u001b[0mlinalg\u001b[0m\u001b[0;34m.\u001b[0m\u001b[0meigvals\u001b[0m\u001b[0;34m(\u001b[0m\u001b[0mM\u001b[0m\u001b[0;34m)\u001b[0m\u001b[0;34m\u001b[0m\u001b[0;34m\u001b[0m\u001b[0m\n\u001b[0m",
            "\u001b[0;32m<__array_function__ internals>\u001b[0m in \u001b[0;36meigvals\u001b[0;34m(*args, **kwargs)\u001b[0m\n",
            "\u001b[0;32m/usr/local/lib/python3.7/dist-packages/numpy/linalg/linalg.py\u001b[0m in \u001b[0;36meigvals\u001b[0;34m(a)\u001b[0m\n\u001b[1;32m   1060\u001b[0m     \u001b[0m_assert_stacked_2d\u001b[0m\u001b[0;34m(\u001b[0m\u001b[0ma\u001b[0m\u001b[0;34m)\u001b[0m\u001b[0;34m\u001b[0m\u001b[0;34m\u001b[0m\u001b[0m\n\u001b[1;32m   1061\u001b[0m     \u001b[0m_assert_stacked_square\u001b[0m\u001b[0;34m(\u001b[0m\u001b[0ma\u001b[0m\u001b[0;34m)\u001b[0m\u001b[0;34m\u001b[0m\u001b[0;34m\u001b[0m\u001b[0m\n\u001b[0;32m-> 1062\u001b[0;31m     \u001b[0m_assert_finite\u001b[0m\u001b[0;34m(\u001b[0m\u001b[0ma\u001b[0m\u001b[0;34m)\u001b[0m\u001b[0;34m\u001b[0m\u001b[0;34m\u001b[0m\u001b[0m\n\u001b[0m\u001b[1;32m   1063\u001b[0m     \u001b[0mt\u001b[0m\u001b[0;34m,\u001b[0m \u001b[0mresult_t\u001b[0m \u001b[0;34m=\u001b[0m \u001b[0m_commonType\u001b[0m\u001b[0;34m(\u001b[0m\u001b[0ma\u001b[0m\u001b[0;34m)\u001b[0m\u001b[0;34m\u001b[0m\u001b[0;34m\u001b[0m\u001b[0m\n\u001b[1;32m   1064\u001b[0m \u001b[0;34m\u001b[0m\u001b[0m\n",
            "\u001b[0;32m/usr/local/lib/python3.7/dist-packages/numpy/linalg/linalg.py\u001b[0m in \u001b[0;36m_assert_finite\u001b[0;34m(*arrays)\u001b[0m\n\u001b[1;32m    205\u001b[0m \u001b[0;32mdef\u001b[0m \u001b[0m_assert_finite\u001b[0m\u001b[0;34m(\u001b[0m\u001b[0;34m*\u001b[0m\u001b[0marrays\u001b[0m\u001b[0;34m)\u001b[0m\u001b[0;34m:\u001b[0m\u001b[0;34m\u001b[0m\u001b[0;34m\u001b[0m\u001b[0m\n\u001b[1;32m    206\u001b[0m     \u001b[0;32mfor\u001b[0m \u001b[0ma\u001b[0m \u001b[0;32min\u001b[0m \u001b[0marrays\u001b[0m\u001b[0;34m:\u001b[0m\u001b[0;34m\u001b[0m\u001b[0;34m\u001b[0m\u001b[0m\n\u001b[0;32m--> 207\u001b[0;31m         \u001b[0;32mif\u001b[0m \u001b[0;32mnot\u001b[0m \u001b[0misfinite\u001b[0m\u001b[0;34m(\u001b[0m\u001b[0ma\u001b[0m\u001b[0;34m)\u001b[0m\u001b[0;34m.\u001b[0m\u001b[0mall\u001b[0m\u001b[0;34m(\u001b[0m\u001b[0;34m)\u001b[0m\u001b[0;34m:\u001b[0m\u001b[0;34m\u001b[0m\u001b[0;34m\u001b[0m\u001b[0m\n\u001b[0m\u001b[1;32m    208\u001b[0m             \u001b[0;32mraise\u001b[0m \u001b[0mLinAlgError\u001b[0m\u001b[0;34m(\u001b[0m\u001b[0;34m\"Array must not contain infs or NaNs\"\u001b[0m\u001b[0;34m)\u001b[0m\u001b[0;34m\u001b[0m\u001b[0;34m\u001b[0m\u001b[0m\n\u001b[1;32m    209\u001b[0m \u001b[0;34m\u001b[0m\u001b[0m\n",
            "\u001b[0;31mTypeError\u001b[0m: ufunc 'isfinite' not supported for the input types, and the inputs could not be safely coerced to any supported types according to the casting rule ''safe''"
          ]
        }
      ]
    }
  ],
  "metadata": {
    "kernelspec": {
      "display_name": "Python 3 (ipykernel)",
      "language": "python",
      "name": "python3"
    },
    "language_info": {
      "codemirror_mode": {
        "name": "ipython",
        "version": 3
      },
      "file_extension": ".py",
      "mimetype": "text/x-python",
      "name": "python",
      "nbconvert_exporter": "python",
      "pygments_lexer": "ipython3",
      "version": "3.9.7"
    },
    "colab": {
      "name": "homework2_MichelleSchäfer.ipynb",
      "provenance": []
    }
  },
  "nbformat": 4,
  "nbformat_minor": 5
}