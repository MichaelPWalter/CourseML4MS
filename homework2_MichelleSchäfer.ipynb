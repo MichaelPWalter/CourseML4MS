{
 "cells": [
  {
   "cell_type": "markdown",
   "id": "2bc07e5f",
   "metadata": {},
   "source": [
    "Solutions for the tasks of the homework from week 2."
   ]
  },
  {
   "cell_type": "code",
   "execution_count": 10,
   "id": "7ee05fe7",
   "metadata": {},
   "outputs": [
    {
     "name": "stdout",
     "output_type": "stream",
     "text": [
      "[[0 <function F at 0x00000166EDC10280>]\n",
      " [<function F1 at 0x00000166EDC10310> 0]]\n"
     ]
    }
   ],
   "source": [
    "import numpy as np\n",
    "from numpy import linalg\n",
    "\n",
    "def F (x,y):\n",
    "    F = e**(i*y) + 2*e**(-i*y/2)*cos(sqrt(3)/2*x)\n",
    "\n",
    "def F1 (x,y):\n",
    "    F1 = e**(-i*y) + 2*e**(i*y/2)*cos(sqrt(3)/2*x)\n",
    "\n",
    "M = np.matrix([(0,F), (F1,0)])\n"
   ]
  },
  {
   "cell_type": "markdown",
   "id": "3f579111",
   "metadata": {},
   "source": [
    "Task 1"
   ]
  },
  {
   "cell_type": "code",
   "execution_count": 14,
   "id": "0eee321f",
   "metadata": {},
   "outputs": [
    {
     "name": "stdout",
     "output_type": "stream",
     "text": [
      "[([-3.141592653589793, 3.141592653589793], [-3.141592653589793, 3.141592653589793])]\n"
     ]
    }
   ],
   "source": [
    "pi=np.pi\n",
    "#pi = 3.141\n",
    "x = [-pi,pi]\n",
    "y = [-pi,pi]\n",
    "\n",
    "value = [(x,y)]\n",
    "print(value)\n",
    "#np.linalg.eig(M)\n",
    "#linalg.eigvals(M)"
   ]
  },
  {
   "cell_type": "code",
   "execution_count": null,
   "id": "60baaf04",
   "metadata": {},
   "outputs": [],
   "source": []
  }
 ],
 "metadata": {
  "kernelspec": {
   "display_name": "Python 3 (ipykernel)",
   "language": "python",
   "name": "python3"
  },
  "language_info": {
   "codemirror_mode": {
    "name": "ipython",
    "version": 3
   },
   "file_extension": ".py",
   "mimetype": "text/x-python",
   "name": "python",
   "nbconvert_exporter": "python",
   "pygments_lexer": "ipython3",
   "version": "3.9.7"
  }
 },
 "nbformat": 4,
 "nbformat_minor": 5
}
